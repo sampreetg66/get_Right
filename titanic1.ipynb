{
  "nbformat": 4,
  "nbformat_minor": 0,
  "metadata": {
    "colab": {
      "name": "Untitled14.ipynb",
      "provenance": [],
      "collapsed_sections": [],
      "toc_visible": true
    },
    "kernelspec": {
      "name": "python3",
      "display_name": "Python 3"
    }
  },
  "cells": [
    {
      "cell_type": "code",
      "metadata": {
        "id": "AaX7IBFLns9g",
        "colab_type": "code",
        "colab": {}
      },
      "source": [
        "import pandas as pd\n",
        "df=pd.read_csv('titanic.csv',index_col='PassengerId')"
      ],
      "execution_count": 0,
      "outputs": []
    },
    {
      "cell_type": "code",
      "metadata": {
        "id": "_Z_gjw7zocwy",
        "colab_type": "code",
        "outputId": "cb33b28c-e43a-4b7e-9895-6f0f7e28b545",
        "colab": {
          "base_uri": "https://localhost:8080/",
          "height": 182
        }
      },
      "source": [
        "print(df.head())"
      ],
      "execution_count": 15,
      "outputs": [
        {
          "output_type": "stream",
          "text": [
            "             Survived  Pclass  ... Cabin Embarked\n",
            "PassengerId                    ...               \n",
            "1                   0       3  ...   NaN        S\n",
            "2                   1       1  ...   C85        C\n",
            "3                   1       3  ...   NaN        S\n",
            "4                   1       1  ...  C123        S\n",
            "5                   0       3  ...   NaN        S\n",
            "\n",
            "[5 rows x 11 columns]\n"
          ],
          "name": "stdout"
        }
      ]
    },
    {
      "cell_type": "code",
      "metadata": {
        "id": "fAsX6aixo8a6",
        "colab_type": "code",
        "colab": {}
      },
      "source": [
        "df=df[['Pclass','Sex','Age','SibSp','Parch','Fare','Survived']]"
      ],
      "execution_count": 0,
      "outputs": []
    },
    {
      "cell_type": "code",
      "metadata": {
        "id": "pPy6iIHnpUGL",
        "colab_type": "code",
        "outputId": "e70b61ab-80c3-463e-dad4-3f42205f623d",
        "colab": {
          "base_uri": "https://localhost:8080/",
          "height": 146
        }
      },
      "source": [
        "print(df.head())"
      ],
      "execution_count": 17,
      "outputs": [
        {
          "output_type": "stream",
          "text": [
            "             Pclass     Sex   Age  SibSp  Parch     Fare  Survived\n",
            "PassengerId                                                       \n",
            "1                 3    male  22.0      1      0   7.2500         0\n",
            "2                 1  female  38.0      1      0  71.2833         1\n",
            "3                 3  female  26.0      0      0   7.9250         1\n",
            "4                 1  female  35.0      1      0  53.1000         1\n",
            "5                 3    male  35.0      0      0   8.0500         0\n"
          ],
          "name": "stdout"
        }
      ]
    },
    {
      "cell_type": "code",
      "metadata": {
        "id": "P_S1SBhytcOt",
        "colab_type": "code",
        "colab": {}
      },
      "source": [
        "df['Sex']=df['Sex'].map({'male':0,'female':1})"
      ],
      "execution_count": 0,
      "outputs": []
    },
    {
      "cell_type": "code",
      "metadata": {
        "id": "TSJbjTTttuRt",
        "colab_type": "code",
        "outputId": "a6c46bc4-0269-4950-8184-9e8f8d3898c9",
        "colab": {
          "base_uri": "https://localhost:8080/",
          "height": 146
        }
      },
      "source": [
        "print(df.head())"
      ],
      "execution_count": 19,
      "outputs": [
        {
          "output_type": "stream",
          "text": [
            "             Pclass  Sex   Age  SibSp  Parch     Fare  Survived\n",
            "PassengerId                                                    \n",
            "1                 3    0  22.0      1      0   7.2500         0\n",
            "2                 1    1  38.0      1      0  71.2833         1\n",
            "3                 3    1  26.0      0      0   7.9250         1\n",
            "4                 1    1  35.0      1      0  53.1000         1\n",
            "5                 3    0  35.0      0      0   8.0500         0\n"
          ],
          "name": "stdout"
        }
      ]
    },
    {
      "cell_type": "code",
      "metadata": {
        "id": "6DObMT81t-rm",
        "colab_type": "code",
        "colab": {}
      },
      "source": [
        "df=df.dropna()"
      ],
      "execution_count": 0,
      "outputs": []
    },
    {
      "cell_type": "code",
      "metadata": {
        "id": "CniukOtgukPg",
        "colab_type": "code",
        "colab": {}
      },
      "source": [
        "x=df.drop('Survived',axis=1)\n",
        "y=df['Survived']"
      ],
      "execution_count": 0,
      "outputs": []
    },
    {
      "cell_type": "code",
      "metadata": {
        "id": "PDgC__kUYppn",
        "colab_type": "code",
        "colab": {}
      },
      "source": [
        "from sklearn.model_selection import train_test_split\n",
        "x_train,x_test,y_train,y_test = train_test_split(x,y,random_state=1)"
      ],
      "execution_count": 0,
      "outputs": []
    },
    {
      "cell_type": "code",
      "metadata": {
        "id": "extsMHfqZKIN",
        "colab_type": "code",
        "colab": {}
      },
      "source": [
        "from sklearn import tree\n",
        "model=tree.DecisionTreeClassifier()"
      ],
      "execution_count": 0,
      "outputs": []
    },
    {
      "cell_type": "code",
      "metadata": {
        "id": "c5P2GF9WZs-p",
        "colab_type": "code",
        "colab": {
          "base_uri": "https://localhost:8080/",
          "height": 127
        },
        "outputId": "8f2bf3e1-0ed4-4167-8c43-9b1c855826be"
      },
      "source": [
        "model"
      ],
      "execution_count": 24,
      "outputs": [
        {
          "output_type": "execute_result",
          "data": {
            "text/plain": [
              "DecisionTreeClassifier(ccp_alpha=0.0, class_weight=None, criterion='gini',\n",
              "                       max_depth=None, max_features=None, max_leaf_nodes=None,\n",
              "                       min_impurity_decrease=0.0, min_impurity_split=None,\n",
              "                       min_samples_leaf=1, min_samples_split=2,\n",
              "                       min_weight_fraction_leaf=0.0, presort='deprecated',\n",
              "                       random_state=None, splitter='best')"
            ]
          },
          "metadata": {
            "tags": []
          },
          "execution_count": 24
        }
      ]
    },
    {
      "cell_type": "code",
      "metadata": {
        "id": "LNxt3EvyaCln",
        "colab_type": "code",
        "colab": {
          "base_uri": "https://localhost:8080/",
          "height": 127
        },
        "outputId": "2b9ecbdb-7033-4d33-c2fa-b7339d58ba9e"
      },
      "source": [
        "model.fit(x_train,y_train)"
      ],
      "execution_count": 25,
      "outputs": [
        {
          "output_type": "execute_result",
          "data": {
            "text/plain": [
              "DecisionTreeClassifier(ccp_alpha=0.0, class_weight=None, criterion='gini',\n",
              "                       max_depth=None, max_features=None, max_leaf_nodes=None,\n",
              "                       min_impurity_decrease=0.0, min_impurity_split=None,\n",
              "                       min_samples_leaf=1, min_samples_split=2,\n",
              "                       min_weight_fraction_leaf=0.0, presort='deprecated',\n",
              "                       random_state=None, splitter='best')"
            ]
          },
          "metadata": {
            "tags": []
          },
          "execution_count": 25
        }
      ]
    },
    {
      "cell_type": "code",
      "metadata": {
        "id": "yk9hQxRZafA2",
        "colab_type": "code",
        "colab": {
          "base_uri": "https://localhost:8080/",
          "height": 35
        },
        "outputId": "cdfc1479-73f0-4416-c4e3-267b584f8c4e"
      },
      "source": [
        "y_predict=model.predict(x_test)\n",
        "from sklearn.metrics import accuracy_score\n",
        "accuracy_score(y_test,y_predict)"
      ],
      "execution_count": 27,
      "outputs": [
        {
          "output_type": "execute_result",
          "data": {
            "text/plain": [
              "0.8156424581005587"
            ]
          },
          "metadata": {
            "tags": []
          },
          "execution_count": 27
        }
      ]
    }
  ]
}