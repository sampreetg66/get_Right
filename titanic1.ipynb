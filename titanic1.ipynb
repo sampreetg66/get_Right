{
  "nbformat": 4,
  "nbformat_minor": 0,
  "metadata": {
    "colab": {
      "name": "Untitled14.ipynb",
      "provenance": [],
      "collapsed_sections": [],
      "toc_visible": true
    },
    "kernelspec": {
      "name": "python3",
      "display_name": "Python 3"
    }
  },
  "cells": [
    {
      "cell_type": "code",
      "metadata": {
        "id": "AaX7IBFLns9g"
      },
      "source": [
        "import pandas as pd\n",
        "df=pd.read_csv('titanic.csv',index_col='PassengerId')"
      ],
      "execution_count": 1,
      "outputs": []
    },
    {
      "cell_type": "code",
      "metadata": {
        "id": "_Z_gjw7zocwy",
        "colab": {
          "base_uri": "https://localhost:8080/"
        },
        "outputId": "71650452-f421-44e1-b678-1d00b5bc5296"
      },
      "source": [
        "print(df.head())"
      ],
      "execution_count": 2,
      "outputs": [
        {
          "output_type": "stream",
          "text": [
            "             Survived  Pclass  ... Cabin Embarked\n",
            "PassengerId                    ...               \n",
            "1                   0       3  ...   NaN        S\n",
            "2                   1       1  ...   C85        C\n",
            "3                   1       3  ...   NaN        S\n",
            "4                   1       1  ...  C123        S\n",
            "5                   0       3  ...   NaN        S\n",
            "\n",
            "[5 rows x 11 columns]\n"
          ],
          "name": "stdout"
        }
      ]
    },
    {
      "cell_type": "code",
      "metadata": {
        "id": "fAsX6aixo8a6"
      },
      "source": [
        "df=df[['Pclass','Sex','Age','SibSp','Parch','Fare','Survived']]"
      ],
      "execution_count": 3,
      "outputs": []
    },
    {
      "cell_type": "code",
      "metadata": {
        "id": "pPy6iIHnpUGL",
        "colab": {
          "base_uri": "https://localhost:8080/"
        },
        "outputId": "8c165a5c-44ad-46dd-df26-fcc05b448a27"
      },
      "source": [
        "print(df.head())"
      ],
      "execution_count": 4,
      "outputs": [
        {
          "output_type": "stream",
          "text": [
            "             Pclass     Sex   Age  SibSp  Parch     Fare  Survived\n",
            "PassengerId                                                       \n",
            "1                 3    male  22.0      1      0   7.2500         0\n",
            "2                 1  female  38.0      1      0  71.2833         1\n",
            "3                 3  female  26.0      0      0   7.9250         1\n",
            "4                 1  female  35.0      1      0  53.1000         1\n",
            "5                 3    male  35.0      0      0   8.0500         0\n"
          ],
          "name": "stdout"
        }
      ]
    },
    {
      "cell_type": "code",
      "metadata": {
        "id": "P_S1SBhytcOt"
      },
      "source": [
        "df['Sex']=df['Sex'].map({'male':0,'female':1})"
      ],
      "execution_count": 5,
      "outputs": []
    },
    {
      "cell_type": "code",
      "metadata": {
        "id": "TSJbjTTttuRt",
        "colab": {
          "base_uri": "https://localhost:8080/"
        },
        "outputId": "e5142de1-159a-4912-ce55-2c23dcf70d26"
      },
      "source": [
        "print(df.head())"
      ],
      "execution_count": 6,
      "outputs": [
        {
          "output_type": "stream",
          "text": [
            "             Pclass  Sex   Age  SibSp  Parch     Fare  Survived\n",
            "PassengerId                                                    \n",
            "1                 3    0  22.0      1      0   7.2500         0\n",
            "2                 1    1  38.0      1      0  71.2833         1\n",
            "3                 3    1  26.0      0      0   7.9250         1\n",
            "4                 1    1  35.0      1      0  53.1000         1\n",
            "5                 3    0  35.0      0      0   8.0500         0\n"
          ],
          "name": "stdout"
        }
      ]
    },
    {
      "cell_type": "code",
      "metadata": {
        "id": "6DObMT81t-rm"
      },
      "source": [
        "df=df.dropna()"
      ],
      "execution_count": 7,
      "outputs": []
    },
    {
      "cell_type": "code",
      "metadata": {
        "id": "CniukOtgukPg"
      },
      "source": [
        "x=df.drop('Survived',axis=1)\n",
        "y=df['Survived']"
      ],
      "execution_count": 8,
      "outputs": []
    },
    {
      "cell_type": "code",
      "metadata": {
        "id": "PDgC__kUYppn"
      },
      "source": [
        "from sklearn.model_selection import train_test_split\n",
        "x_train,x_test,y_train,y_test = train_test_split(x,y,random_state=1)"
      ],
      "execution_count": 9,
      "outputs": []
    },
    {
      "cell_type": "code",
      "metadata": {
        "id": "extsMHfqZKIN"
      },
      "source": [
        "from sklearn import tree\n",
        "model=tree.DecisionTreeClassifier()"
      ],
      "execution_count": 10,
      "outputs": []
    },
    {
      "cell_type": "code",
      "metadata": {
        "id": "c5P2GF9WZs-p",
        "colab": {
          "base_uri": "https://localhost:8080/"
        },
        "outputId": "e82e46cd-7709-4912-ed95-5233fb2c0d76"
      },
      "source": [
        "model"
      ],
      "execution_count": 11,
      "outputs": [
        {
          "output_type": "execute_result",
          "data": {
            "text/plain": [
              "DecisionTreeClassifier(ccp_alpha=0.0, class_weight=None, criterion='gini',\n",
              "                       max_depth=None, max_features=None, max_leaf_nodes=None,\n",
              "                       min_impurity_decrease=0.0, min_impurity_split=None,\n",
              "                       min_samples_leaf=1, min_samples_split=2,\n",
              "                       min_weight_fraction_leaf=0.0, presort='deprecated',\n",
              "                       random_state=None, splitter='best')"
            ]
          },
          "metadata": {
            "tags": []
          },
          "execution_count": 11
        }
      ]
    },
    {
      "cell_type": "code",
      "metadata": {
        "id": "LNxt3EvyaCln",
        "colab": {
          "base_uri": "https://localhost:8080/"
        },
        "outputId": "42334f1b-433b-42c7-b3f0-ddf6291ccbb9"
      },
      "source": [
        "model.fit(x_train,y_train)"
      ],
      "execution_count": 12,
      "outputs": [
        {
          "output_type": "execute_result",
          "data": {
            "text/plain": [
              "DecisionTreeClassifier(ccp_alpha=0.0, class_weight=None, criterion='gini',\n",
              "                       max_depth=None, max_features=None, max_leaf_nodes=None,\n",
              "                       min_impurity_decrease=0.0, min_impurity_split=None,\n",
              "                       min_samples_leaf=1, min_samples_split=2,\n",
              "                       min_weight_fraction_leaf=0.0, presort='deprecated',\n",
              "                       random_state=None, splitter='best')"
            ]
          },
          "metadata": {
            "tags": []
          },
          "execution_count": 12
        }
      ]
    },
    {
      "cell_type": "code",
      "metadata": {
        "id": "yk9hQxRZafA2",
        "colab": {
          "base_uri": "https://localhost:8080/"
        },
        "outputId": "10583813-248b-463f-9da7-9d157b0a2691"
      },
      "source": [
        "y_predict=model.predict(x_test)\n",
        "from sklearn.metrics import accuracy_score\n",
        "accuracy_score(y_test,y_predict)"
      ],
      "execution_count": 13,
      "outputs": [
        {
          "output_type": "execute_result",
          "data": {
            "text/plain": [
              "0.8156424581005587"
            ]
          },
          "metadata": {
            "tags": []
          },
          "execution_count": 13
        }
      ]
    }
  ]
}