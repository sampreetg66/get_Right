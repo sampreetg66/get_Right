{
  "nbformat": 4,
  "nbformat_minor": 0,
  "metadata": {
    "colab": {
      "name": "Untitled36.ipynb",
      "provenance": [],
      "authorship_tag": "ABX9TyP5m8pJbJkI9Fvlph8eoKyT",
      "include_colab_link": true
    },
    "kernelspec": {
      "name": "python3",
      "display_name": "Python 3"
    },
    "language_info": {
      "name": "python"
    }
  },
  "cells": [
    {
      "cell_type": "markdown",
      "metadata": {
        "id": "view-in-github",
        "colab_type": "text"
      },
      "source": [
        "<a href=\"https://colab.research.google.com/github/sampreetg66/machine-learning/blob/master/tools_problem.ipynb\" target=\"_parent\"><img src=\"https://colab.research.google.com/assets/colab-badge.svg\" alt=\"Open In Colab\"/></a>"
      ]
    },
    {
      "cell_type": "code",
      "metadata": {
        "colab": {
          "base_uri": "https://localhost:8080/"
        },
        "id": "C3LPd3oOEQZs",
        "outputId": "3e601167-30ba-420e-f7aa-c440b80b261c"
      },
      "source": [
        "#https://www.hackerrank.com/challenges/merge-the-tools/problem\n",
        "ostr='aaafsddde'\n",
        "nostr=len(ostr)\n",
        "strli=[]\n",
        "substrli=[]\n",
        "res = []\n",
        "for i in range (nostr//3):\n",
        "    strli.append(ostr[0:3])\n",
        "    ostr=ostr[3:]\n",
        "print(strli)\n",
        "# part2\n",
        "nstrli=len(strli)\n",
        "print(nstrli)\n",
        "\n",
        "substrli=list(strli[2])\n",
        "print(substrli)\n",
        "for j in substrli:\n",
        "    if j not in res:\n",
        "        res.append(j)\n",
        "print(res)"
      ],
      "execution_count": 1,
      "outputs": [
        {
          "output_type": "stream",
          "text": [
            "['aaa', 'fsd', 'dde']\n",
            "3\n",
            "['d', 'd', 'e']\n",
            "['d', 'e']\n"
          ],
          "name": "stdout"
        }
      ]
    },
    {
      "cell_type": "code",
      "metadata": {
        "colab": {
          "base_uri": "https://localhost:8080/"
        },
        "id": "gLRTxRS9Ebjl",
        "outputId": "95f837df-e1f6-4bff-df52-11b2ab37aab0"
      },
      "source": [
        "res1 = []\n",
        "count=0\n",
        "for k in range(nstrli):\n",
        "  \n",
        "  substrli=list(strli[k])\n",
        "  #print(substrli)\n",
        "  for j in substrli:\n",
        "      count=count+1\n",
        "      if j not in res1:\n",
        "          res1.append(j)\n",
        "      if(count%3==0):\n",
        "        print(count)\n",
        "        print(res1)\n",
        "  res1.clear()\n",
        "  "
      ],
      "execution_count": 18,
      "outputs": [
        {
          "output_type": "stream",
          "text": [
            "3\n",
            "['a']\n",
            "6\n",
            "['f', 's', 'd']\n",
            "9\n",
            "['d', 'e']\n"
          ],
          "name": "stdout"
        }
      ]
    }
  ]
}